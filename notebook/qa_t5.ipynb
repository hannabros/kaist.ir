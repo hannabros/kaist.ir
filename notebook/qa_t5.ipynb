{
 "cells": [
  {
   "cell_type": "markdown",
   "metadata": {},
   "source": [
    "\n",
    "# Load Library & Initialize Wandb"
   ]
  },
  {
   "cell_type": "code",
   "execution_count": null,
   "metadata": {},
   "outputs": [],
   "source": [
    "## Load Library\n",
    "import os, sys\n",
    "import json\n",
    "import pandas as pd\n",
    "from tqdm import tqdm\n",
    "import random\n",
    "\n",
    "# Weights & Biases\n",
    "import wandb\n",
    "from pytorch_lightning.loggers import WandbLogger\n",
    "\n",
    "# Pytorch modules\n",
    "import torch\n",
    "from torch.nn import functional as F\n",
    "from torch import nn\n",
    "from torch.optim import AdamW\n",
    "from torch.optim.lr_scheduler import LambdaLR\n",
    "from torch.utils.data import Dataset, DataLoader, random_split\n",
    "\n",
    "# Pytorch-Lightning\n",
    "from pytorch_lightning import LightningDataModule, LightningModule, Trainer\n",
    "import pytorch_lightning as pl"
   ]
  },
  {
   "cell_type": "code",
   "execution_count": null,
   "metadata": {},
   "outputs": [
    {
     "name": "stderr",
     "output_type": "stream",
     "text": [
      "Failed to detect the name of this notebook, you can set it manually with the WANDB_NOTEBOOK_NAME environment variable to enable code saving.\n",
      "\u001b[34m\u001b[1mwandb\u001b[0m: Currently logged in as: \u001b[33mhannabros\u001b[0m (use `wandb login --relogin` to force relogin)\n"
     ]
    },
    {
     "data": {
      "text/html": [
       "\n",
       "                    Syncing run <strong><a href=\"https://wandb.ai/hannabros/qa_contrastive/runs/2gmdubwy\" target=\"_blank\">fine-cloud-30</a></strong> to <a href=\"https://wandb.ai/hannabros/qa_contrastive\" target=\"_blank\">Weights & Biases</a> (<a href=\"https://docs.wandb.com/integrations/jupyter.html\" target=\"_blank\">docs</a>).<br/>\n",
       "\n",
       "                "
      ],
      "text/plain": [
       "<IPython.core.display.HTML object>"
      ]
     },
     "metadata": {},
     "output_type": "display_data"
    },
    {
     "data": {
      "text/html": [
       "<button onClick=\"this.nextSibling.style.display='block';this.style.display='none';\">Display W&B run</button><iframe src=\"https://wandb.ai/hannabros/qa_contrastive/runs/2gmdubwy?jupyter=true\" style=\"border:none;width:100%;height:420px;display:none;\"></iframe>"
      ],
      "text/plain": [
       "<wandb.sdk.wandb_run.Run at 0x7ff0aa5f2e10>"
      ]
     },
     "metadata": {},
     "output_type": "display_data"
    }
   ],
   "source": [
    "wandb.login()\n",
    "wandb.init(project=\"qa_contrastive\", entity=\"hannabros\")"
   ]
  },
  {
   "cell_type": "markdown",
   "metadata": {},
   "source": [
    "# Load Dataset"
   ]
  },
  {
   "cell_type": "code",
   "execution_count": null,
   "metadata": {},
   "outputs": [],
   "source": [
    "def extract_questions_and_answers(file_path):\n",
    "  with open(file_path) as f:\n",
    "    data = json.load(f)\n",
    "  \n",
    "  data_rows = []\n",
    "  for doc in data['data']:\n",
    "    for paragraph in doc['paragraphs']:\n",
    "      context = paragraph['context']\n",
    "      for question_and_answers in paragraph['qas']:\n",
    "        question = question_and_answers['question']\n",
    "        answers = question_and_answers['answers']\n",
    "        \n",
    "        for answer in answers:\n",
    "          answer_text = answer['text']\n",
    "          answer_start = answer['answer_start']\n",
    "          answer_end = answer_start + len(answer_text)\n",
    "\n",
    "          data_rows.append({\n",
    "            'question': question,\n",
    "            'context': context,\n",
    "            'answer_text': answer_text,\n",
    "            'answer_start': answer_start,\n",
    "            'answer_end': answer_end\n",
    "        })\n",
    "  return pd.DataFrame(data_rows)"
   ]
  },
  {
   "cell_type": "code",
   "execution_count": null,
   "metadata": {},
   "outputs": [],
   "source": [
    "data_path = '/home/ubuntu/workspace/kaist.ir/qa/data'\n",
    "kor_train = extract_questions_and_answers(os.path.join(data_path, 'korquad/KorQuAD_v1.0_train.json'))\n",
    "kor_valid = extract_questions_and_answers(os.path.join(data_path, 'korquad/KorQuAD_v1.0_dev.json'))"
   ]
  },
  {
   "cell_type": "markdown",
   "metadata": {},
   "source": [
    "# Load Pretrained Model"
   ]
  },
  {
   "cell_type": "code",
   "execution_count": 1,
   "metadata": {},
   "outputs": [],
   "source": [
    "from transformers import T5Tokenizer, T5ForConditionalGeneration\n",
    "from transformers import WEIGHTS_NAME, CONFIG_NAME\n",
    "from transformers.tokenization_utils import trim_batch"
   ]
  },
  {
   "cell_type": "code",
   "execution_count": 2,
   "metadata": {},
   "outputs": [],
   "source": [
    "## AIRC-KETI/ke-t5\n",
    "# tokenizer = T5Tokenizer.from_pretrained('ke-t5-base')\n",
    "# model = T5ForConditionalGeneration.from_pretrained('ke-t5-base')\n",
    "\n",
    "## ET5\n",
    "et5_pretrained_path = '/home/ubuntu/workspace/kaist.ir/qa/model/et5'\n",
    "tokenizer = T5Tokenizer.from_pretrained(et5_pretrained_path)\n",
    "model = T5ForConditionalGeneration.from_pretrained(et5_pretrained_path)"
   ]
  },
  {
   "cell_type": "code",
   "execution_count": null,
   "metadata": {},
   "outputs": [],
   "source": [
    "class WarmupLinearSchedule(LambdaLR):\n",
    "    \"\"\" Linear warmup and then linear decay.\n",
    "        Linearly increases learning rate from 0 to 1 over `warmup_steps` training steps.\n",
    "        Linearly decreases learning rate from 1. to 0. over remaining `t_total - warmup_steps` steps.\n",
    "    \"\"\"\n",
    "    def __init__(self, optimizer, warmup_steps, t_total, last_epoch=-1):\n",
    "        self.warmup_steps = warmup_steps\n",
    "        self.t_total = t_total\n",
    "        super(WarmupLinearSchedule, self).__init__(optimizer, self.lr_lambda, last_epoch=last_epoch)\n",
    "\n",
    "    def lr_lambda(self, step):\n",
    "        if step < self.warmup_steps:\n",
    "            return float(step) / float(max(1, self.warmup_steps))\n",
    "        return max(0.0, float(self.t_total - step) / float(max(1.0, self.t_total - self.warmup_steps)))"
   ]
  },
  {
   "cell_type": "code",
   "execution_count": null,
   "metadata": {},
   "outputs": [],
   "source": [
    "class KorQADataset(Dataset):\n",
    "  def __init__(self,\n",
    "               df: pd.DataFrame,\n",
    "               tokenizer: T5Tokenizer,\n",
    "               src_max_len: int = 512,\n",
    "               tgt_max_len: int = 32):\n",
    "    self.df = df\n",
    "    self.src_max_len = src_max_len\n",
    "    self.tgt_max_len = tgt_max_len\n",
    "    self.tokenizer = tokenizer\n",
    "\n",
    "  def __getitem__(self, idx):\n",
    "    data_row = self.df.iloc[idx]\n",
    "\n",
    "    source_encoding = self.tokenizer(\n",
    "      data_row['question'],\n",
    "      data_row['context'],\n",
    "      max_length=self.src_max_len,\n",
    "      padding='max_length',\n",
    "      truncation='only_second',\n",
    "      return_attention_mask=True,\n",
    "      add_special_tokens=True\n",
    "    )\n",
    "\n",
    "    target_encoding = self.tokenizer(\n",
    "      data_row['answer_text'],\n",
    "      max_length = self.tgt_max_len,\n",
    "      padding='max_length',\n",
    "      truncation=True,\n",
    "      return_attention_mask=True,\n",
    "      add_special_tokens=True,\n",
    "      return_tensors='pt'\n",
    "    )\n",
    "\n",
    "    labels = target_encoding['input_ids']\n",
    "    labels[labels == 0] = -100\n",
    "\n",
    "    return dict(\n",
    "        question=data_row['question'],\n",
    "        context=data_row['context'],\n",
    "        answer_text=data_row['answer_text'],\n",
    "        source_ids=source_encoding['input_ids'].squeeze(),\n",
    "        source_mask=source_encoding['attention_mask'].squeeze(),\n",
    "        target_ids=target_encoding['input_ids'].squeeze()\n",
    "    )\n",
    "\n",
    "  def __len__(self):\n",
    "    return len(self.df.index)\n",
    "\n",
    "  def trim_seq2seq_batch(batch, pad_token_id=0, test=False):\n",
    "    source_ids, source_mask = trim_batch(batch[\"source_ids\"], pad_token_id, attention_mask=batch[\"source_mask\"])\n",
    "    if test:\n",
    "      return source_ids, source_mask, None\n",
    "    y = trim_batch(batch[\"target_ids\"], pad_token_id)\n",
    "      return source_ids, source_mask, y"
   ]
  },
  {
   "cell_type": "code",
   "execution_count": null,
   "metadata": {},
   "outputs": [],
   "source": [
    "def train_log(loss, example_ct, epoch, lr):\n",
    "    # Where the magic happens\n",
    "    wandb.log({\"epoch\": epoch, \"loss\": loss, \"lr\": lr}, step=example_ct)\n",
    "    print(f\"Loss after \" + str(example_ct).zfill(5) + f\" examples: {loss:.3f}\" + f\" with lr: {lr}\")\n",
    "\n",
    "def train_batch(step, batch, model, optimizer, scheduler, criterion, config):\n",
    "    for param_group in optimizer.param_groups:\n",
    "        lr = param_group['lr']\n",
    "        \n",
    "    source_ids = batch['source_ids'].to(device)\n",
    "    attention_mask = batch['source_mask'].to(device)\n",
    "    target_ids = batch['target_ids'][:, 1:].contiguous()\n",
    "    labels = target_ids[:, 1:].clone()\n",
    "    labels[labels == 0] = -100\n",
    "    labels = labels.to(device)\n",
    "\n",
    "    # Forward pass ➡\n",
    "    outputs = model(input_ids=source_ids,\n",
    "                    attention_mask=attention_mask.\n",
    "                    labels=labels)\n",
    "    #loss = criterion(outputs, labels)\n",
    "    loss = outputs[0]\n",
    "\n",
    "    if config.gradient_accumulation_steps > 1:\n",
    "        loss = loss / config.gradient_accumulation_steps\n",
    "\n",
    "    # Backward pass ⬅\n",
    "    loss.backward()\n",
    "\n",
    "    if (step + 1) % config.gradient_accumulation_steps == 0:\n",
    "        torch.nn.utils.clip_grad_norm_(model.parameters(), config.max_grad_norm)\n",
    "\n",
    "        # Step with optimizer\n",
    "        optimizer.step()\n",
    "        optimizer.zero_grad()\n",
    "\n",
    "        scheduler.step()\n",
    "\n",
    "    return loss, lr\n",
    "\n",
    "def save(model, tokenizer, config):\n",
    "    print(f'saving model to {config.model_path}')\n",
    "    os.makedirs(config.model_path, exist_ok=True)\n",
    "    torch.save(model.state_dict(), os.path.join(config.model_path, WEIGHTS_NAME))\n",
    "    model.config.to_json_file(os.path.join(config.model_path, CONFIG_NAME))\n",
    "    tokenizer.save_pretrained(config.model_path)"
   ]
  },
  {
   "cell_type": "code",
   "execution_count": null,
   "metadata": {},
   "outputs": [],
   "source": [
    "def make(config, train_df, valid_df, tokenizer, model, device):\n",
    "    # Make the data\n",
    "    train_dataset = KorQADataset(train_df, max_len=config.max_len, tokenizer=tokenizer)\n",
    "    valid_dataset = KorQADataset(valid_df, max_len=config.max_len, tokenizer=tokenizer)\n",
    "    train_loader = DataLoader(train_dataset,\n",
    "                              batch_size=config.batch_size,\n",
    "                              shuffle=True,\n",
    "                              pin_memory=True,\n",
    "                              num_workers=2)\n",
    "    valid_loader = DataLoader(valid_dataset,\n",
    "                              batch_size=config.batch_size,\n",
    "                              shuffle=True,\n",
    "                              pin_memory=True,\n",
    "                              num_workers=2)\n",
    "\n",
    "    # Make the model\n",
    "    model = model.to(device)\n",
    "\n",
    "    # Make the loss and optimizer\n",
    "    criterion = nn.CrossEntropyLoss()\n",
    "    t_total = len(train_loader) // config.gradient_accumulation_steps * config.epochs\n",
    "    no_decay = ['bias', 'LayerNorm.weight']\n",
    "    optimizer_grouped_parameters = [\n",
    "        {'params': [p for n, p in model.named_parameters() if not any(nd in n for nd in no_decay)],\n",
    "         'weight_decay': config.weight_decay},\n",
    "        {'params': [p for n, p in model.named_parameters() if any(nd in n for nd in no_decay)],\n",
    "         'weight_decay': 0.0}\n",
    "    ]\n",
    "    optimizer = AdamW(optimizer_grouped_parameters, lr=config.learning_rate, eps=config.adam_epsilon)\n",
    "    scheduler = WarmupLinearSchedule(optimizer, warmup_steps=t_total*config.warmup_proportion, t_total=t_total)\n",
    "    \n",
    "    return model, train_loader, valid_loader, criterion, optimizer, scheduler"
   ]
  },
  {
   "cell_type": "code",
   "execution_count": null,
   "metadata": {},
   "outputs": [],
   "source": [
    "def jaccard(str1, str2): \n",
    "    a = set(str1.lower().split()) \n",
    "    b = set(str2.lower().split())\n",
    "    c = a.intersection(b)\n",
    "    return float(len(c)) / (len(a) + len(b) - len(c))\n",
    "\n",
    "\n",
    "def test_step(model, tokenizer, batch):\n",
    "    \"\"\"\n",
    "    Runs forward pass on test set and returns calculated loss, predictions, and targets\n",
    "    Note: this assumes that your test set has targets (doesn't have for kaggle).\n",
    "    \"\"\"\n",
    "    pad_token_id = tokenizer.pad_token_id\n",
    "    source_ids, source_mask, _ = KorQADataset.trim_seq2seq_batch(batch, pad_token_id, test=True)\n",
    "    generated_ids = model.generate(\n",
    "        input_ids=source_ids,\n",
    "        attention_mask=source_mask,\n",
    "        num_beams=1,\n",
    "        max_length=80,\n",
    "        repetition_penalty=2.5,\n",
    "        length_penalty=1.0,\n",
    "        early_stopping=True,\n",
    "        use_cache=True,\n",
    "    )\n",
    "    preds = [\n",
    "        tokenizer.decode(g, skip_special_tokens=True, clean_up_tokenization_spaces=True)\n",
    "        for g in generated_ids\n",
    "    ]\n",
    "\n",
    "    return {\"preds\": preds}"
   ]
  },
  {
   "cell_type": "code",
   "execution_count": null,
   "metadata": {},
   "outputs": [],
   "source": [
    "def model_pipeline(hyperparameters, train_df, valid_df, tokenizer, model, device):\n",
    "\n",
    "    # tell wandb to get started\n",
    "    with wandb.init(project=\"qa_contrastive\", config=hyperparameters):\n",
    "        # access all HPs through wandb.config, so logging matches execution!\n",
    "        config = wandb.config\n",
    "\n",
    "        # make the model, data, and optimization problem\n",
    "        model, train_loader, valid_loader, criterion, optimizer, scheduler = make(config, train_df, valid_df, tokenizer, model, device)\n",
    "        #print(model)\n",
    "\n",
    "        # Tell wandb to watch what the model gets up to: gradients, weights, and more!\n",
    "        wandb.watch(model, criterion, log=\"all\", log_freq=10)\n",
    "\n",
    "        # Run training and track with wandb\n",
    "        total_batches = len(train_loader) * config.epochs\n",
    "        example_ct = 0  # number of examples seen\n",
    "        batch_ct = 0\n",
    "        best_loss = 10.0\n",
    "        \n",
    "        for epoch in tqdm(range(config.epochs)):\n",
    "            for step, batch in enumerate(train_loader):\n",
    "\n",
    "                loss, lr = train_batch(step, batch, model, optimizer, scheduler, criterion, config)\n",
    "                example_ct +=  batch['input_ids'].shape[0]\n",
    "                batch_ct += 1\n",
    "\n",
    "                # Report metrics every 25th batch\n",
    "                if ((batch_ct + 1) % 500) == 0:\n",
    "                    train_log(loss, example_ct, epoch, lr)\n",
    "\n",
    "            model.eval()\n",
    "\n",
    "            # Run the model on some test examples\n",
    "            with torch.no_grad():\n",
    "                val_loss = []\n",
    "                valid_example_ct = 0\n",
    "                for step, batch in enumerate(valid_loader):\n",
    "                    valid_example_ct += batch['input_ids'].shape[0]\n",
    "                    source_ids = batch['input_ids'].to(device)\n",
    "                    attention_mask = batch['attention_mask'].to(device)\n",
    "                    target_ids = batch['target_ids'][:, 1:].contiguous()\n",
    "                    labels = target_ids[:, 1:].clone()\n",
    "                    labels[labels == 0] = -100\n",
    "                    labels = labels.to(device)\n",
    "\n",
    "                    outputs = model(input_ids=source_ids,\n",
    "                            attention_mask=attention_mask,\n",
    "                            labels=labels)\n",
    "                    loss = outputs[0].item()\n",
    "                    val_loss.append(loss)\n",
    "                    #return target text\n",
    "                    target_text = [tokenizer.decode(ids) for ids in target_ids]\n",
    "\n",
    "                    #generate text\n",
    "                    preds = test_step(model, tokenizer, batch)\n",
    "                    preds_text = preds['preds']\n",
    "\n",
    "                    jaccard_score = [jaccard(p. t) for p, t in zip(preds_text, target_text)]\n",
    "\n",
    "                avg_val_loss = sum(loss)/len(loss)\n",
    "                print(f\"average valid loss: {avg_val_loss}, jaccard_score: {jaccard_score}\")\n",
    "                \n",
    "                wandb.log({\"valid_loss\": avg_val_loss, \"jaccard_score\": jaccard_score})\n",
    "\n",
    "            # Save the model\n",
    "            if best_loss > avg_val_loss:\n",
    "                best_loss = avg_val_loss\n",
    "                print(f'Best Loss is {avg_val_loss}')\n",
    "                save(model, tokenizer, config)\n",
    "            \n",
    "            model.train()\n",
    "\n",
    "    return model"
   ]
  },
  {
   "cell_type": "code",
   "execution_count": null,
   "metadata": {},
   "outputs": [],
   "source": [
    "device = torch.device('cuda') if torch.cuda.is_available() else torch.device('cpu')\n",
    "\n",
    "config = dict(\n",
    "    epochs=5,\n",
    "    batch_size=16,\n",
    "    learning_rate=5e-5,\n",
    "    max_len=512,\n",
    "    model_path='/home/ubuntu/workspace/kaist.ir/qa/model/qa_t5',\n",
    "    weight_decay=0.01,\n",
    "    adam_epsilon=1e-6,\n",
    "    warmup_proportion=0.1,\n",
    "    gradient_accumulation_steps=1,\n",
    "    max_grad_norm=1.0)"
   ]
  },
  {
   "cell_type": "code",
   "execution_count": null,
   "metadata": {},
   "outputs": [],
   "source": [
    "train_dataset = KorQADataset(kor_train_sample, max_len=512, tokenizer=tokenizer)\n",
    "valid_dataset = KorQADataset(kor_valid_sample, max_len=512, tokenizer=tokenizer)"
   ]
  },
  {
   "cell_type": "code",
   "execution_count": null,
   "metadata": {},
   "outputs": [],
   "source": [
    "train_loader = DataLoader(train_dataset,\n",
    "                            batch_size=16,\n",
    "                            shuffle=True,\n",
    "                            pin_memory=True,\n",
    "                            num_workers=2)\n",
    "valid_loader = DataLoader(valid_dataset,\n",
    "                            batch_size=16,\n",
    "                            shuffle=True,\n",
    "                            pin_memory=True,\n",
    "                            num_workers=2)"
   ]
  },
  {
   "cell_type": "code",
   "execution_count": null,
   "metadata": {},
   "outputs": [
    {
     "data": {
      "text/html": [
       "Finishing last run (ID:2gmdubwy) before initializing another..."
      ],
      "text/plain": [
       "<IPython.core.display.HTML object>"
      ]
     },
     "metadata": {},
     "output_type": "display_data"
    },
    {
     "data": {
      "text/html": [
       "<br/>Waiting for W&B process to finish, PID 22235... <strong style=\"color:green\">(success).</strong>"
      ],
      "text/plain": [
       "<IPython.core.display.HTML object>"
      ]
     },
     "metadata": {},
     "output_type": "display_data"
    },
    {
     "data": {
      "application/vnd.jupyter.widget-view+json": {
       "model_id": "ccd913739c714dd78cb4eed254ce8fc3",
       "version_major": 2,
       "version_minor": 0
      },
      "text/plain": [
       "VBox(children=(Label(value=' 0.00MB of 0.00MB uploaded (0.00MB deduped)\\r'), FloatProgress(value=1.0, max=1.0)…"
      ]
     },
     "metadata": {},
     "output_type": "display_data"
    },
    {
     "data": {
      "text/html": [
       "<style>\n",
       "    table.wandb td:nth-child(1) { padding: 0 10px; text-align: right }\n",
       "    .wandb-row { display: flex; flex-direction: row; flex-wrap: wrap; width: 100% }\n",
       "    .wandb-col { display: flex; flex-direction: column; flex-basis: 100%; flex: 1; padding: 10px; }\n",
       "    </style>\n",
       "<div class=\"wandb-row\"><div class=\"wandb-col\">\n",
       "</div><div class=\"wandb-col\">\n",
       "</div></div>\n",
       "Synced 6 W&B file(s), 0 media file(s), 0 artifact file(s) and 0 other file(s)\n",
       "<br/>Synced <strong style=\"color:#cdcd00\">fine-cloud-30</strong>: <a href=\"https://wandb.ai/hannabros/qa_contrastive/runs/2gmdubwy\" target=\"_blank\">https://wandb.ai/hannabros/qa_contrastive/runs/2gmdubwy</a><br/>\n",
       "Find logs at: <code>./wandb/run-20211128_093227-2gmdubwy/logs</code><br/>\n"
      ],
      "text/plain": [
       "<IPython.core.display.HTML object>"
      ]
     },
     "metadata": {},
     "output_type": "display_data"
    },
    {
     "data": {
      "text/html": [
       "Successfully finished last run (ID:2gmdubwy). Initializing new run:<br/>"
      ],
      "text/plain": [
       "<IPython.core.display.HTML object>"
      ]
     },
     "metadata": {},
     "output_type": "display_data"
    },
    {
     "data": {
      "text/html": [
       "\n",
       "                    Syncing run <strong><a href=\"https://wandb.ai/hannabros/qa_contrastive/runs/p59bhwoj\" target=\"_blank\">toasty-dust-31</a></strong> to <a href=\"https://wandb.ai/hannabros/qa_contrastive\" target=\"_blank\">Weights & Biases</a> (<a href=\"https://docs.wandb.com/integrations/jupyter.html\" target=\"_blank\">docs</a>).<br/>\n",
       "\n",
       "                "
      ],
      "text/plain": [
       "<IPython.core.display.HTML object>"
      ]
     },
     "metadata": {},
     "output_type": "display_data"
    },
    {
     "name": "stderr",
     "output_type": "stream",
     "text": [
      "  0%|          | 0/5 [00:00<?, ?it/s]"
     ]
    },
    {
     "name": "stdout",
     "output_type": "stream",
     "text": [
      "Loss after 07984 examples: 0.454 with lr: 1.31885593220339e-05\n",
      "Loss after 15984 examples: 0.384 with lr: 2.643008474576271e-05\n",
      "Loss after 23984 examples: 0.223 with lr: 3.967161016949153e-05\n",
      "Loss after 31984 examples: 0.228 with lr: 4.967631826741996e-05\n",
      "Loss after 39984 examples: 0.605 with lr: 4.820503766478343e-05\n",
      "Loss after 47984 examples: 0.940 with lr: 4.6733757062146894e-05\n",
      "Loss after 55984 examples: 0.507 with lr: 4.526247645951036e-05\n",
      "Accuracy of the model on the 5774 test samples: 85.51271272167935%\n",
      "Best Accuracy is 0.8551271272167935\n",
      "saving model to /home/ubuntu/workspace/kaist.ir/qa/model/qa_bert\n"
     ]
    },
    {
     "name": "stderr",
     "output_type": "stream",
     "text": [
      " 20%|██        | 1/5 [40:24<2:41:37, 2424.38s/it]"
     ]
    },
    {
     "name": "stdout",
     "output_type": "stream",
     "text": [
      "Loss after 63975 examples: 0.277 with lr: 4.3791195856873825e-05\n",
      "Loss after 71975 examples: 0.806 with lr: 4.2319915254237294e-05\n",
      "Loss after 79975 examples: 0.235 with lr: 4.0848634651600756e-05\n",
      "Loss after 87975 examples: 0.220 with lr: 3.9377354048964224e-05\n",
      "Loss after 95975 examples: 0.293 with lr: 3.7906073446327686e-05\n",
      "Loss after 103975 examples: 0.358 with lr: 3.643479284369115e-05\n",
      "Loss after 111975 examples: 0.195 with lr: 3.496351224105461e-05\n",
      "Loss after 119975 examples: 0.179 with lr: 3.349223163841808e-05\n",
      "Accuracy of the model on the 5774 test samples: 87.09314404432132%\n",
      "Best Accuracy is 0.8709314404432132\n",
      "saving model to /home/ubuntu/workspace/kaist.ir/qa/model/qa_bert\n"
     ]
    },
    {
     "name": "stderr",
     "output_type": "stream",
     "text": [
      " 40%|████      | 2/5 [1:21:48<2:02:59, 2459.75s/it]"
     ]
    },
    {
     "name": "stdout",
     "output_type": "stream",
     "text": [
      "Loss after 127966 examples: 0.112 with lr: 3.202095103578154e-05\n",
      "Loss after 135966 examples: 0.157 with lr: 3.054967043314501e-05\n",
      "Loss after 143966 examples: 0.045 with lr: 2.9078389830508472e-05\n",
      "Loss after 151966 examples: 0.233 with lr: 2.760710922787194e-05\n",
      "Loss after 159966 examples: 0.240 with lr: 2.6135828625235403e-05\n",
      "Loss after 167966 examples: 0.060 with lr: 2.466454802259887e-05\n",
      "Loss after 175966 examples: 0.012 with lr: 2.3193267419962337e-05\n",
      "Accuracy of the model on the 5774 test samples: 87.2279382808717%\n",
      "Best Accuracy is 0.872279382808717\n",
      "saving model to /home/ubuntu/workspace/kaist.ir/qa/model/qa_bert\n"
     ]
    },
    {
     "name": "stderr",
     "output_type": "stream",
     "text": [
      " 60%|██████    | 3/5 [2:03:20<1:22:28, 2474.47s/it]"
     ]
    },
    {
     "name": "stdout",
     "output_type": "stream",
     "text": [
      "Loss after 183957 examples: 0.014 with lr: 2.1721986817325802e-05\n",
      "Loss after 191957 examples: 0.354 with lr: 2.0250706214689268e-05\n",
      "Loss after 199957 examples: 0.014 with lr: 1.877942561205273e-05\n"
     ]
    }
   ],
   "source": [
    "#kor_train_sample = kor_train.sample(len(kor_train)//100, random_state=1234)\n",
    "#kor_valid_sample = kor_valid.sample(len(kor_valid)//100, random_state=1234)\n",
    "\n",
    "#model = model_pipeline(config, kor_train_sample, kor_valid_sample, tokenizer, model, device)\n",
    "model = model_pipeline(config, kor_train, kor_valid, tokenizer, model, device)"
   ]
  }
 ],
 "metadata": {
  "interpreter": {
   "hash": "3ece5f9b3f3aceda458e8d77feac6fd1c43e8580863a594c877bbe067b1219d3"
  },
  "kernelspec": {
   "display_name": "Python 3.7.0 64-bit ('ir': conda)",
   "language": "python",
   "name": "python3"
  },
  "language_info": {
   "codemirror_mode": {
    "name": "ipython",
    "version": 3
   },
   "file_extension": ".py",
   "mimetype": "text/x-python",
   "name": "python",
   "nbconvert_exporter": "python",
   "pygments_lexer": "ipython3",
   "version": "3.7.12"
  },
  "orig_nbformat": 4
 },
 "nbformat": 4,
 "nbformat_minor": 2
}
